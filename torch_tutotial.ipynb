{
  "nbformat": 4,
  "nbformat_minor": 0,
  "metadata": {
    "colab": {
      "provenance": [],
      "authorship_tag": "ABX9TyMHN3ZOczR8M7S9EZpLxyEl",
      "include_colab_link": true
    },
    "kernelspec": {
      "name": "python3",
      "display_name": "Python 3"
    },
    "language_info": {
      "name": "python"
    }
  },
  "cells": [
    {
      "cell_type": "markdown",
      "metadata": {
        "id": "view-in-github",
        "colab_type": "text"
      },
      "source": [
        "<a href=\"https://colab.research.google.com/github/poseidon3718/test_0307/blob/main/torch_tutotial.ipynb\" target=\"_parent\"><img src=\"https://colab.research.google.com/assets/colab-badge.svg\" alt=\"Open In Colab\"/></a>"
      ]
    },
    {
      "cell_type": "markdown",
      "source": [
        "https://github.com/airobotlab/lecture_1_advanced_cnn/blob/main/1_CNN_%EA%B8%B0%EC%B4%88_%EB%B3%B5%EC%8A%B5.ipynb"
      ],
      "metadata": {
        "id": "ddRqiBrlJi3C"
      }
    },
    {
      "cell_type": "markdown",
      "source": [
        "Torch Import"
      ],
      "metadata": {
        "id": "vEhxYUre5ZWc"
      }
    },
    {
      "cell_type": "code",
      "execution_count": 36,
      "metadata": {
        "id": "swe-DjWm3rEE"
      },
      "outputs": [],
      "source": [
        "import torch\n",
        "import torch.nn as nn\n",
        "import torch.nn.functional as F"
      ]
    },
    {
      "cell_type": "markdown",
      "source": [
        "Pooling Example 3x3"
      ],
      "metadata": {
        "id": "Gp-z1Jx05dT8"
      }
    },
    {
      "cell_type": "code",
      "source": [
        "input_example1 = torch.tensor([[[0,1.0,2], [3,4,5], [6,7,8]]])\n",
        "print(input_example)"
      ],
      "metadata": {
        "colab": {
          "base_uri": "https://localhost:8080/"
        },
        "id": "VRRSiMKS4Aj1",
        "outputId": "a915ba18-4497-4c18-f0a9-e07d989abfb5"
      },
      "execution_count": 5,
      "outputs": [
        {
          "output_type": "stream",
          "name": "stdout",
          "text": [
            "tensor([[[0., 1., 2.],\n",
            "         [3., 4., 5.],\n",
            "         [6., 7., 8.]]])\n"
          ]
        }
      ]
    },
    {
      "cell_type": "markdown",
      "source": [
        "Max Pooling 각 커널에서 가장 큰 값을 표현"
      ],
      "metadata": {
        "id": "sdrdHaOF5it8"
      }
    },
    {
      "cell_type": "code",
      "source": [
        "max_pooling_layer1 = nn.MaxPool2d(kernel_size=2, stride=1)\n",
        "print(max_pooling_layer1)\n",
        "print(max_pooling_layer1(input_example1))"
      ],
      "metadata": {
        "colab": {
          "base_uri": "https://localhost:8080/"
        },
        "id": "3dDKWd3a4iUV",
        "outputId": "9a31254a-6716-4c5f-8349-908440a87a00"
      },
      "execution_count": 6,
      "outputs": [
        {
          "output_type": "stream",
          "name": "stdout",
          "text": [
            "MaxPool2d(kernel_size=2, stride=1, padding=0, dilation=1, ceil_mode=False)\n",
            "tensor([[[4., 5.],\n",
            "         [7., 8.]]])\n"
          ]
        }
      ]
    },
    {
      "cell_type": "markdown",
      "source": [
        "Average Pooling 각 커널의 평균 값을 표현"
      ],
      "metadata": {
        "id": "VqUpL4ZJ5lvM"
      }
    },
    {
      "cell_type": "code",
      "source": [
        "average_pooling_layer = torch.nn.AvgPool2d(kernel_size=2, stride=1)\n",
        "print(average_pooling_layer1)\n",
        "print(average_pooling_layer1(input_example1))"
      ],
      "metadata": {
        "colab": {
          "base_uri": "https://localhost:8080/"
        },
        "id": "cLWnkZIQ48T8",
        "outputId": "fe87b165-a12c-4076-d09b-8aa1f8a23e0e"
      },
      "execution_count": 7,
      "outputs": [
        {
          "output_type": "stream",
          "name": "stdout",
          "text": [
            "AvgPool2d(kernel_size=2, stride=1, padding=0)\n",
            "tensor([[[2., 3.],\n",
            "         [5., 6.]]])\n"
          ]
        }
      ]
    },
    {
      "cell_type": "markdown",
      "source": [
        "Pooling Example 4x4"
      ],
      "metadata": {
        "id": "efOPjzw36kyU"
      }
    },
    {
      "cell_type": "code",
      "source": [
        "input_example2 = torch.tensor([[[12,20,30,0.0], [20,12,2,0], [0,70,5,2], [8,2,90,3]]])\n",
        "print(input_example2)"
      ],
      "metadata": {
        "colab": {
          "base_uri": "https://localhost:8080/"
        },
        "id": "nwMLWL3i6kVt",
        "outputId": "91703263-3385-40f9-804b-41df89c5e428"
      },
      "execution_count": 17,
      "outputs": [
        {
          "output_type": "stream",
          "name": "stdout",
          "text": [
            "tensor([[[12., 20., 30.,  0.],\n",
            "         [20., 12.,  2.,  0.],\n",
            "         [ 0., 70.,  5.,  2.],\n",
            "         [ 8.,  2., 90.,  3.]]])\n"
          ]
        }
      ]
    },
    {
      "cell_type": "markdown",
      "source": [
        "Max Pooling (stride=2) ※ stride: 상하좌우로 움직일 간격 설정"
      ],
      "metadata": {
        "id": "WjzQJHQh69AE"
      }
    },
    {
      "cell_type": "code",
      "source": [
        "max_pooling_layer2 = nn.MaxPool2d(kernel_size=2, stride=2)\n",
        "print('\\nmax pooling:\\n', max_pooling_layer2(input_example2))"
      ],
      "metadata": {
        "colab": {
          "base_uri": "https://localhost:8080/"
        },
        "id": "dm9lL6wF69Qs",
        "outputId": "c6899707-8a8b-41d5-d5d7-53aa4b93105a"
      },
      "execution_count": 20,
      "outputs": [
        {
          "output_type": "stream",
          "name": "stdout",
          "text": [
            "\n",
            "max pooling:\n",
            " tensor([[[20., 30.],\n",
            "         [70., 90.]]])\n"
          ]
        }
      ]
    },
    {
      "cell_type": "markdown",
      "source": [
        "Average Pooling (stride=2)"
      ],
      "metadata": {
        "id": "8DTjLxW57Z5c"
      }
    },
    {
      "cell_type": "code",
      "source": [
        "average_pooling_layer2 = torch.nn.AvgPool2d(kernel_size=2, stride=2)\n",
        "print('\\naverage pooling:\\n', average_pooling_layer2(input_example2))"
      ],
      "metadata": {
        "colab": {
          "base_uri": "https://localhost:8080/"
        },
        "id": "iaLPnDrU7aKU",
        "outputId": "7c00a848-d714-4df4-89b4-163cf7abc3a6"
      },
      "execution_count": 21,
      "outputs": [
        {
          "output_type": "stream",
          "name": "stdout",
          "text": [
            "\n",
            "average pooling:\n",
            " tensor([[[16.,  8.],\n",
            "         [20., 25.]]])\n"
          ]
        }
      ]
    },
    {
      "cell_type": "markdown",
      "source": [
        "Shape Example"
      ],
      "metadata": {
        "id": "3Kz5kwXM-Dvk"
      }
    },
    {
      "cell_type": "code",
      "source": [
        "inputs = torch.Tensor(1,1,32,32)\n",
        "inputs.shape"
      ],
      "metadata": {
        "colab": {
          "base_uri": "https://localhost:8080/"
        },
        "id": "Y3vzX8XF-EGz",
        "outputId": "141428c1-1318-4f80-ca37-5a226eb39dba"
      },
      "execution_count": 22,
      "outputs": [
        {
          "output_type": "execute_result",
          "data": {
            "text/plain": [
              "torch.Size([1, 1, 32, 32])"
            ]
          },
          "metadata": {},
          "execution_count": 22
        }
      ]
    },
    {
      "cell_type": "markdown",
      "source": [],
      "metadata": {
        "id": "PMbQpJ9t-WOc"
      }
    },
    {
      "cell_type": "code",
      "source": [
        "conv1 = nn.Conv2d(in_channels=1, out_channels=32, kernel_size=3, padding=1)\n",
        "print(conv1)"
      ],
      "metadata": {
        "colab": {
          "base_uri": "https://localhost:8080/"
        },
        "id": "nQZZAvMS-Wcz",
        "outputId": "d89110b2-5279-4517-f4f1-1891cfb4eaaf"
      },
      "execution_count": 23,
      "outputs": [
        {
          "output_type": "stream",
          "name": "stdout",
          "text": [
            "Conv2d(1, 32, kernel_size=(3, 3), stride=(1, 1), padding=(1, 1))\n"
          ]
        }
      ]
    },
    {
      "cell_type": "markdown",
      "source": [],
      "metadata": {
        "id": "biz7U8lHFWEY"
      }
    },
    {
      "cell_type": "code",
      "source": [
        "conv2 = nn.Conv2d(in_channels=32, out_channels=64, kernel_size=3, padding=1)\n",
        "print(conv2)"
      ],
      "metadata": {
        "colab": {
          "base_uri": "https://localhost:8080/"
        },
        "id": "ML7QM_YkFW23",
        "outputId": "d67a274a-a0b1-483b-a33e-558ab92e66f4"
      },
      "execution_count": 24,
      "outputs": [
        {
          "output_type": "stream",
          "name": "stdout",
          "text": [
            "Conv2d(32, 64, kernel_size=(3, 3), stride=(1, 1), padding=(1, 1))\n"
          ]
        }
      ]
    },
    {
      "cell_type": "markdown",
      "source": [],
      "metadata": {
        "id": "CPnJpu2vGEqL"
      }
    },
    {
      "cell_type": "code",
      "source": [
        "pool = nn.MaxPool2d(kernel_size=2)\n",
        "print(pool)"
      ],
      "metadata": {
        "colab": {
          "base_uri": "https://localhost:8080/"
        },
        "id": "u5H5Xc-OGE8a",
        "outputId": "1a0a56f2-cf09-4eb7-b514-51d5c2c2b05e"
      },
      "execution_count": 37,
      "outputs": [
        {
          "output_type": "stream",
          "name": "stdout",
          "text": [
            "MaxPool2d(kernel_size=2, stride=2, padding=0, dilation=1, ceil_mode=False)\n"
          ]
        }
      ]
    },
    {
      "cell_type": "markdown",
      "source": [],
      "metadata": {
        "id": "THcnlqCDGzWR"
      }
    },
    {
      "cell_type": "code",
      "source": [
        "out = conv1(inputs)\n",
        "print(out.shape)"
      ],
      "metadata": {
        "colab": {
          "base_uri": "https://localhost:8080/"
        },
        "id": "P3TBPW7xHLxS",
        "outputId": "e74d26ba-3055-4990-c5c7-a6a906400828"
      },
      "execution_count": 39,
      "outputs": [
        {
          "output_type": "stream",
          "name": "stdout",
          "text": [
            "torch.Size([1, 32, 32, 32])\n"
          ]
        }
      ]
    },
    {
      "cell_type": "code",
      "source": [
        "out = pool(out)\n",
        "print(out.shape)"
      ],
      "metadata": {
        "colab": {
          "base_uri": "https://localhost:8080/"
        },
        "id": "zPu9vJnMJv6i",
        "outputId": "85b73731-df41-475d-e5a1-a997d4403e74"
      },
      "execution_count": 40,
      "outputs": [
        {
          "output_type": "stream",
          "name": "stdout",
          "text": [
            "torch.Size([1, 32, 16, 16])\n"
          ]
        }
      ]
    },
    {
      "cell_type": "code",
      "source": [
        "out = conv2(out)\n",
        "print(out.shape)"
      ],
      "metadata": {
        "colab": {
          "base_uri": "https://localhost:8080/"
        },
        "id": "EKI9y4iJGzuh",
        "outputId": "a9e71b46-cfd2-4432-b915-9f6a13649f74"
      },
      "execution_count": 41,
      "outputs": [
        {
          "output_type": "stream",
          "name": "stdout",
          "text": [
            "torch.Size([1, 64, 16, 16])\n"
          ]
        }
      ]
    },
    {
      "cell_type": "code",
      "source": [
        "out = pool(out)\n",
        "\n",
        "print(out.shape)"
      ],
      "metadata": {
        "colab": {
          "base_uri": "https://localhost:8080/"
        },
        "id": "IXWaYnZ7J_0S",
        "outputId": "89f43f33-c17e-4517-97da-07ff66f8cfb8"
      },
      "execution_count": 42,
      "outputs": [
        {
          "output_type": "stream",
          "name": "stdout",
          "text": [
            "torch.Size([1, 64, 8, 8])\n"
          ]
        }
      ]
    },
    {
      "cell_type": "markdown",
      "source": [
        "Flatten"
      ],
      "metadata": {
        "id": "WQoZ8oKyHfuq"
      }
    },
    {
      "cell_type": "code",
      "source": [
        "out = out.view(out.size(0), -1)\n",
        "print(out.shape)"
      ],
      "metadata": {
        "colab": {
          "base_uri": "https://localhost:8080/"
        },
        "id": "PsQm2UMhHf5B",
        "outputId": "5215198f-4b9e-469e-e8b3-7ee25c53f964"
      },
      "execution_count": 43,
      "outputs": [
        {
          "output_type": "stream",
          "name": "stdout",
          "text": [
            "torch.Size([1, 4096])\n"
          ]
        }
      ]
    },
    {
      "cell_type": "markdown",
      "source": [
        "Dense (Fully Connected)"
      ],
      "metadata": {
        "id": "0bkyzmztIjH6"
      }
    },
    {
      "cell_type": "code",
      "source": [
        "fc = nn.Linear(4096, 10)\n",
        "out = fc(out)\n",
        "\n",
        "print(out.shape)\n",
        "print(out)"
      ],
      "metadata": {
        "colab": {
          "base_uri": "https://localhost:8080/"
        },
        "id": "2bNZ4MXbIiUL",
        "outputId": "cd527edf-7f1f-4950-d8e0-b0c4a8c51a31"
      },
      "execution_count": 44,
      "outputs": [
        {
          "output_type": "stream",
          "name": "stdout",
          "text": [
            "torch.Size([1, 10])\n",
            "tensor([[ 6.0739e+23,  3.5925e+23,  1.0771e+24,  9.3948e+23,  1.0163e+24,\n",
            "         -6.7802e+23,  1.5825e+24, -7.8404e+23, -1.8807e+23,  2.4470e+23]],\n",
            "       grad_fn=<AddmmBackward0>)\n"
          ]
        }
      ]
    },
    {
      "cell_type": "markdown",
      "source": [
        "TensorFlow 예제"
      ],
      "metadata": {
        "id": "02MCabsfLW3J"
      }
    },
    {
      "cell_type": "code",
      "source": [
        "import tensorflow as tf\n",
        "import\n",
        "import\n",
        "\n",
        "\n",
        "\n",
        "input_layer =\n",
        "\n",
        "flatten_layer =\n",
        "\n",
        "hidden_layer = Dense(64, activation='relu')(flatten_layer)\n",
        "\n",
        "output_layer ="
      ],
      "metadata": {
        "id": "U2F1XWhzK89p"
      },
      "execution_count": null,
      "outputs": []
    },
    {
      "cell_type": "code",
      "source": [],
      "metadata": {
        "id": "GjodQGKrMM9p"
      },
      "execution_count": null,
      "outputs": []
    }
  ]
}